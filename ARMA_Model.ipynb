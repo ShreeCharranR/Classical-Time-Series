{
  "nbformat": 4,
  "nbformat_minor": 0,
  "metadata": {
    "kernelspec": {
      "display_name": "Python 3",
      "language": "python",
      "name": "python3"
    },
    "language_info": {
      "codemirror_mode": {
        "name": "ipython",
        "version": 3
      },
      "file_extension": ".py",
      "mimetype": "text/x-python",
      "name": "python",
      "nbconvert_exporter": "python",
      "pygments_lexer": "ipython3",
      "version": "3.7.3"
    },
    "colab": {
      "name": "ARMA Model.ipynb",
      "provenance": [],
      "toc_visible": true
    }
  },
  "cells": [
    {
      "cell_type": "markdown",
      "metadata": {
        "id": "8eCh_fHW9Sof",
        "colab_type": "text"
      },
      "source": [
        "# Building an ARMA model"
      ]
    },
    {
      "cell_type": "markdown",
      "metadata": {
        "id": "tSb0bBvD9Soh",
        "colab_type": "text"
      },
      "source": [
        "## Introduction to ARMA"
      ]
    },
    {
      "cell_type": "markdown",
      "metadata": {
        "id": "NHXn1xSs9Soj",
        "colab_type": "text"
      },
      "source": [
        "We will put the autoregression model and moving average models together in combination. AR(p) models try to explain the momentum and mean reversion effects.  MA(q) models try to capture the shock effects observed in the white noise terms.  These effects are unexpected or surprise events, hence anomalies. "
      ]
    },
    {
      "cell_type": "code",
      "metadata": {
        "id": "EdlFx0aL9Sos",
        "colab_type": "code",
        "colab": {
          "base_uri": "https://localhost:8080/",
          "height": 225
        },
        "outputId": "57fa7ce4-b21e-477d-8817-3214f0db2092"
      },
      "source": [
        "from pandas import read_csv\n",
        "from matplotlib import pyplot\n",
        "furn= read_csv('df_furniture.csv', index_col=0, parse_dates=True)\n",
        "furn.head()"
      ],
      "execution_count": 3,
      "outputs": [
        {
          "output_type": "execute_result",
          "data": {
            "text/html": [
              "<div>\n",
              "<style scoped>\n",
              "    .dataframe tbody tr th:only-of-type {\n",
              "        vertical-align: middle;\n",
              "    }\n",
              "\n",
              "    .dataframe tbody tr th {\n",
              "        vertical-align: top;\n",
              "    }\n",
              "\n",
              "    .dataframe thead th {\n",
              "        text-align: right;\n",
              "    }\n",
              "</style>\n",
              "<table border=\"1\" class=\"dataframe\">\n",
              "  <thead>\n",
              "    <tr style=\"text-align: right;\">\n",
              "      <th></th>\n",
              "      <th>furniture_price_adjusted</th>\n",
              "    </tr>\n",
              "    <tr>\n",
              "      <th>Month</th>\n",
              "      <th></th>\n",
              "    </tr>\n",
              "  </thead>\n",
              "  <tbody>\n",
              "    <tr>\n",
              "      <th>1992-01-01</th>\n",
              "      <td>2073.432724</td>\n",
              "    </tr>\n",
              "    <tr>\n",
              "      <th>1992-02-01</th>\n",
              "      <td>2114.485812</td>\n",
              "    </tr>\n",
              "    <tr>\n",
              "      <th>1992-03-01</th>\n",
              "      <td>2260.570891</td>\n",
              "    </tr>\n",
              "    <tr>\n",
              "      <th>1992-04-01</th>\n",
              "      <td>2255.103236</td>\n",
              "    </tr>\n",
              "    <tr>\n",
              "      <th>1992-05-01</th>\n",
              "      <td>2331.414618</td>\n",
              "    </tr>\n",
              "  </tbody>\n",
              "</table>\n",
              "</div>"
            ],
            "text/plain": [
              "            furniture_price_adjusted\n",
              "Month                               \n",
              "1992-01-01               2073.432724\n",
              "1992-02-01               2114.485812\n",
              "1992-03-01               2260.570891\n",
              "1992-04-01               2255.103236\n",
              "1992-05-01               2331.414618"
            ]
          },
          "metadata": {
            "tags": []
          },
          "execution_count": 3
        }
      ]
    },
    {
      "cell_type": "markdown",
      "metadata": {
        "id": "V8cU730W9So1",
        "colab_type": "text"
      },
      "source": [
        "## Estimate ARMA model for Furniture Data"
      ]
    },
    {
      "cell_type": "code",
      "metadata": {
        "id": "8qTTCrKh9So3",
        "colab_type": "code",
        "colab": {
          "base_uri": "https://localhost:8080/",
          "height": 541
        },
        "outputId": "c9574e4b-d603-4a77-9b63-7318a9839936"
      },
      "source": [
        "# Import the ARMA module from statsmodels\n",
        "from statsmodels.tsa.arima_model import ARMA\n",
        "\n",
        "# Fit an MA(1) model to the first simulated data\n",
        "mod = ARMA(furn, order=(1,1))  # AR(1) and MA(1)\n",
        "res = mod.fit()\n",
        "\n",
        "# Print out summary information on the fit\n",
        "print(res.summary())\n",
        "\n",
        "# Print out the estimate for the constant and for theta\n",
        "print(res.params)"
      ],
      "execution_count": 4,
      "outputs": [
        {
          "output_type": "stream",
          "text": [
            "/usr/local/lib/python3.6/dist-packages/statsmodels/tools/_testing.py:19: FutureWarning: pandas.util.testing is deprecated. Use the functions in the public API at pandas.testing instead.\n",
            "  import pandas.util.testing as tm\n",
            "/usr/local/lib/python3.6/dist-packages/statsmodels/tsa/base/tsa_model.py:165: ValueWarning: No frequency information was provided, so inferred frequency MS will be used.\n",
            "  % freq, ValueWarning)\n"
          ],
          "name": "stderr"
        },
        {
          "output_type": "stream",
          "text": [
            "                                 ARMA Model Results                                 \n",
            "====================================================================================\n",
            "Dep. Variable:     furniture_price_adjusted   No. Observations:                  331\n",
            "Model:                           ARMA(1, 1)   Log Likelihood               -2561.315\n",
            "Method:                             css-mle   S.D. of innovations            551.368\n",
            "Date:                      Fri, 17 Apr 2020   AIC                           5130.629\n",
            "Time:                              11:46:28   BIC                           5145.838\n",
            "Sample:                          01-01-1992   HQIC                          5136.695\n",
            "                               - 07-01-2019                                         \n",
            "==================================================================================================\n",
            "                                     coef    std err          z      P>|z|      [0.025      0.975]\n",
            "--------------------------------------------------------------------------------------------------\n",
            "const                           6023.9283   3200.631      1.882      0.061    -249.193    1.23e+04\n",
            "ar.L1.furniture_price_adjusted     0.9992      0.001    898.125      0.000       0.997       1.001\n",
            "ma.L1.furniture_price_adjusted    -0.7537      0.033    -22.897      0.000      -0.818      -0.689\n",
            "                                    Roots                                    \n",
            "=============================================================================\n",
            "                  Real          Imaginary           Modulus         Frequency\n",
            "-----------------------------------------------------------------------------\n",
            "AR.1            1.0008           +0.0000j            1.0008            0.0000\n",
            "MA.1            1.3268           +0.0000j            1.3268            0.0000\n",
            "-----------------------------------------------------------------------------\n",
            "const                             6023.928295\n",
            "ar.L1.furniture_price_adjusted       0.999201\n",
            "ma.L1.furniture_price_adjusted      -0.753666\n",
            "dtype: float64\n"
          ],
          "name": "stdout"
        }
      ]
    },
    {
      "cell_type": "markdown",
      "metadata": {
        "id": "YLFl3LE29So9",
        "colab_type": "text"
      },
      "source": [
        "## Forecast ARMA model for Furniture Data"
      ]
    },
    {
      "cell_type": "code",
      "metadata": {
        "id": "uxMKC3Dm9So-",
        "colab_type": "code",
        "colab": {
          "base_uri": "https://localhost:8080/",
          "height": 318
        },
        "outputId": "9607a5e1-0549-4901-edeb-b631108323bb"
      },
      "source": [
        "# Import the ARMA module from statsmodels\n",
        "from statsmodels.tsa.arima_model import ARMA\n",
        "import matplotlib.pyplot as plt\n",
        "\n",
        "mod = ARMA(furn,order=(1,1))\n",
        "res = mod.fit()\n",
        "\n",
        "# Plot the original series and the forecasted series\n",
        "#res.plot_predict()\n",
        "res.plot_predict(start=0,end='2025-01-01')\n",
        "plt.legend(fontsize=8)\n",
        "plt.show();"
      ],
      "execution_count": 5,
      "outputs": [
        {
          "output_type": "stream",
          "text": [
            "/usr/local/lib/python3.6/dist-packages/statsmodels/tsa/base/tsa_model.py:165: ValueWarning: No frequency information was provided, so inferred frequency MS will be used.\n",
            "  % freq, ValueWarning)\n"
          ],
          "name": "stderr"
        },
        {
          "output_type": "display_data",
          "data": {
            "image/png": "[encoded data removed]",
            "text/plain": [
              "<Figure size 432x288 with 1 Axes>"
            ]
          },
          "metadata": {
            "tags": [],
            "needs_background": "light"
          }
        }
      ]
    },
    {
      "cell_type": "markdown",
      "metadata": {
        "id": "p5CGxH699SpF",
        "colab_type": "text"
      },
      "source": [
        "We see the blue line as the forecast and the orange line as the data.  It looks like a very close match. The grey shaded region denotes the 95% confidence interval."
      ]
    },
    {
      "cell_type": "code",
      "metadata": {
        "id": "76IZLhPU9Spe",
        "colab_type": "code",
        "colab": {}
      },
      "source": [
        "# end"
      ],
      "execution_count": 0,
      "outputs": []
    },
    {
      "cell_type": "code",
      "metadata": {
        "id": "KOmiL7_k9Spk",
        "colab_type": "code",
        "colab": {}
      },
      "source": [
        ""
      ],
      "execution_count": 0,
      "outputs": []
    },
    {
      "cell_type": "code",
      "metadata": {
        "id": "kH3km3jz9Spq",
        "colab_type": "code",
        "colab": {}
      },
      "source": [
        ""
      ],
      "execution_count": 0,
      "outputs": []
    }
  ]
}