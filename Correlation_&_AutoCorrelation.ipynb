{
  "nbformat": 4,
  "nbformat_minor": 0,
  "metadata": {
    "kernelspec": {
      "display_name": "Python 3",
      "language": "python",
      "name": "python3"
    },
    "language_info": {
      "codemirror_mode": {
        "name": "ipython",
        "version": 3
      },
      "file_extension": ".py",
      "mimetype": "text/x-python",
      "name": "python",
      "nbconvert_exporter": "python",
      "pygments_lexer": "ipython3",
      "version": "3.7.4"
    },
    "colab": {
      "name": "Correlation & AutoCorrelation.ipynb",
      "provenance": [],
      "collapsed_sections": []
    }
  },
  "cells": [
    {
      "cell_type": "markdown",
      "metadata": {
        "id": "h7BWb5AqgwbO",
        "colab_type": "text"
      },
      "source": [
        "# Correlation in Time Series"
      ]
    },
    {
      "cell_type": "code",
      "metadata": {
        "id": "dYXdvofigwbQ",
        "colab_type": "code",
        "colab": {}
      },
      "source": [
        "import pandas as pd\n",
        "import numpy as np\n",
        "import matplotlib.pylab as plt\n",
        "from datetime import datetime"
      ],
      "execution_count": 0,
      "outputs": []
    },
    {
      "cell_type": "markdown",
      "metadata": {
        "id": "_HSKTMMSgwbZ",
        "colab_type": "text"
      },
      "source": [
        "Correlation is a measure of the direction and strength of a relationship. In this case, we are looking at two time series. Measurements are from -1 to 1 with 0 meaning no relationship or zero correlation between the two series.  1 means a perfect, positive correlation, and -1 means a perfect, negative correlation.  High correlations are toward 1 or -1 whereas low correlations are toward 0. In time series, one must be cautioned when viewing correlation, given the time period. You can imagine that on one day, there is strong, positive correlation but that the very next day, it could be a different story about the relationship between the two series."
      ]
    },
    {
      "cell_type": "markdown",
      "metadata": {
        "id": "uF-1qg00gwbb",
        "colab_type": "text"
      },
      "source": [
        "Let's go through some examples of low, medium, and high correlations that are both positive and negative. We will use some simple examples."
      ]
    },
    {
      "cell_type": "markdown",
      "metadata": {
        "id": "FLXBT6Utgwbc",
        "colab_type": "text"
      },
      "source": [
        "## Low Correlation"
      ]
    },
    {
      "cell_type": "markdown",
      "metadata": {
        "id": "FASMN5ySgwbe",
        "colab_type": "text"
      },
      "source": [
        "### Google trends of \"freedom\" and \"choice\""
      ]
    },
    {
      "cell_type": "code",
      "metadata": {
        "id": "BNRTV9Mygwbf",
        "colab_type": "code",
        "colab": {}
      },
      "source": [
        "# Read in data\n",
        "# https://trends.google.com/trends/?geo=US , google trends, search the word \"freedom\" and \"choice\"\n",
        "freedom_choice = pd.read_csv(\"freedom_choice.csv\", skiprows=1)"
      ],
      "execution_count": 0,
      "outputs": []
    },
    {
      "cell_type": "code",
      "metadata": {
        "id": "_V1ega0Xgwbm",
        "colab_type": "code",
        "colab": {
          "base_uri": "https://localhost:8080/",
          "height": 195
        },
        "outputId": "cd997084-d047-4721-d9c7-191e40004788"
      },
      "source": [
        "freedom_choice.head()"
      ],
      "execution_count": 3,
      "outputs": [
        {
          "output_type": "execute_result",
          "data": {
            "text/html": [
              "<div>\n",
              "<style scoped>\n",
              "    .dataframe tbody tr th:only-of-type {\n",
              "        vertical-align: middle;\n",
              "    }\n",
              "\n",
              "    .dataframe tbody tr th {\n",
              "        vertical-align: top;\n",
              "    }\n",
              "\n",
              "    .dataframe thead th {\n",
              "        text-align: right;\n",
              "    }\n",
              "</style>\n",
              "<table border=\"1\" class=\"dataframe\">\n",
              "  <thead>\n",
              "    <tr style=\"text-align: right;\">\n",
              "      <th></th>\n",
              "      <th>Week</th>\n",
              "      <th>freedom: (United States)</th>\n",
              "      <th>choice: (United States)</th>\n",
              "    </tr>\n",
              "  </thead>\n",
              "  <tbody>\n",
              "    <tr>\n",
              "      <th>0</th>\n",
              "      <td>2014-10-12</td>\n",
              "      <td>44</td>\n",
              "      <td>45</td>\n",
              "    </tr>\n",
              "    <tr>\n",
              "      <th>1</th>\n",
              "      <td>2014-10-19</td>\n",
              "      <td>45</td>\n",
              "      <td>46</td>\n",
              "    </tr>\n",
              "    <tr>\n",
              "      <th>2</th>\n",
              "      <td>2014-10-26</td>\n",
              "      <td>46</td>\n",
              "      <td>45</td>\n",
              "    </tr>\n",
              "    <tr>\n",
              "      <th>3</th>\n",
              "      <td>2014-11-02</td>\n",
              "      <td>49</td>\n",
              "      <td>47</td>\n",
              "    </tr>\n",
              "    <tr>\n",
              "      <th>4</th>\n",
              "      <td>2014-11-09</td>\n",
              "      <td>50</td>\n",
              "      <td>46</td>\n",
              "    </tr>\n",
              "  </tbody>\n",
              "</table>\n",
              "</div>"
            ],
            "text/plain": [
              "         Week  freedom: (United States)  choice: (United States)\n",
              "0  2014-10-12                        44                       45\n",
              "1  2014-10-19                        45                       46\n",
              "2  2014-10-26                        46                       45\n",
              "3  2014-11-02                        49                       47\n",
              "4  2014-11-09                        50                       46"
            ]
          },
          "metadata": {
            "tags": []
          },
          "execution_count": 3
        }
      ]
    },
    {
      "cell_type": "code",
      "metadata": {
        "id": "rpK88HI_gwbx",
        "colab_type": "code",
        "colab": {}
      },
      "source": [
        "col_names = ['Week','freedom', 'choice']\n",
        "freedom_choice.columns = col_names"
      ],
      "execution_count": 0,
      "outputs": []
    },
    {
      "cell_type": "code",
      "metadata": {
        "id": "TNEW_d7Tgwb4",
        "colab_type": "code",
        "colab": {
          "base_uri": "https://localhost:8080/",
          "height": 337
        },
        "outputId": "1f5c8ac0-fec9-44aa-ea7d-af16445a985e"
      },
      "source": [
        "freedom_choice.plot(figsize=(8,5))"
      ],
      "execution_count": 5,
      "outputs": [
        {
          "output_type": "execute_result",
          "data": {
            "text/plain": [
              "<matplotlib.axes._subplots.AxesSubplot at 0x7f6535ac0898>"
            ]
          },
          "metadata": {
            "tags": []
          },
          "execution_count": 5
        },
        {
          "output_type": "display_data",
          "data": {
            "image/png": "[encoded data removed]",
            "text/plain": [
              "<Figure size 576x360 with 1 Axes>"
            ]
          },
          "metadata": {
            "tags": [],
            "needs_background": "light"
          }
        }
      ]
    },
    {
      "cell_type": "code",
      "metadata": {
        "id": "jzSmDSE2gwcM",
        "colab_type": "code",
        "colab": {}
      },
      "source": [
        "freedom_choice['Week'] = pd.to_datetime(freedom_choice['Week'], infer_datetime_format=True )"
      ],
      "execution_count": 0,
      "outputs": []
    },
    {
      "cell_type": "code",
      "metadata": {
        "id": "RWzk8Co4gwcS",
        "colab_type": "code",
        "colab": {}
      },
      "source": [
        "freedom_choice.set_index('Week', inplace=True)"
      ],
      "execution_count": 0,
      "outputs": []
    },
    {
      "cell_type": "code",
      "metadata": {
        "id": "mK_mq2c4gwcX",
        "colab_type": "code",
        "colab": {
          "base_uri": "https://localhost:8080/",
          "height": 225
        },
        "outputId": "5ff6ee89-86ad-4c31-b4f2-4dbaffa46715"
      },
      "source": [
        "freedom_choice.head()"
      ],
      "execution_count": 8,
      "outputs": [
        {
          "output_type": "execute_result",
          "data": {
            "text/html": [
              "<div>\n",
              "<style scoped>\n",
              "    .dataframe tbody tr th:only-of-type {\n",
              "        vertical-align: middle;\n",
              "    }\n",
              "\n",
              "    .dataframe tbody tr th {\n",
              "        vertical-align: top;\n",
              "    }\n",
              "\n",
              "    .dataframe thead th {\n",
              "        text-align: right;\n",
              "    }\n",
              "</style>\n",
              "<table border=\"1\" class=\"dataframe\">\n",
              "  <thead>\n",
              "    <tr style=\"text-align: right;\">\n",
              "      <th></th>\n",
              "      <th>freedom</th>\n",
              "      <th>choice</th>\n",
              "    </tr>\n",
              "    <tr>\n",
              "      <th>Week</th>\n",
              "      <th></th>\n",
              "      <th></th>\n",
              "    </tr>\n",
              "  </thead>\n",
              "  <tbody>\n",
              "    <tr>\n",
              "      <th>2014-10-12</th>\n",
              "      <td>44</td>\n",
              "      <td>45</td>\n",
              "    </tr>\n",
              "    <tr>\n",
              "      <th>2014-10-19</th>\n",
              "      <td>45</td>\n",
              "      <td>46</td>\n",
              "    </tr>\n",
              "    <tr>\n",
              "      <th>2014-10-26</th>\n",
              "      <td>46</td>\n",
              "      <td>45</td>\n",
              "    </tr>\n",
              "    <tr>\n",
              "      <th>2014-11-02</th>\n",
              "      <td>49</td>\n",
              "      <td>47</td>\n",
              "    </tr>\n",
              "    <tr>\n",
              "      <th>2014-11-09</th>\n",
              "      <td>50</td>\n",
              "      <td>46</td>\n",
              "    </tr>\n",
              "  </tbody>\n",
              "</table>\n",
              "</div>"
            ],
            "text/plain": [
              "            freedom  choice\n",
              "Week                       \n",
              "2014-10-12       44      45\n",
              "2014-10-19       45      46\n",
              "2014-10-26       46      45\n",
              "2014-11-02       49      47\n",
              "2014-11-09       50      46"
            ]
          },
          "metadata": {
            "tags": []
          },
          "execution_count": 8
        }
      ]
    },
    {
      "cell_type": "code",
      "metadata": {
        "id": "yJDX6TY0gwce",
        "colab_type": "code",
        "colab": {
          "base_uri": "https://localhost:8080/",
          "height": 34
        },
        "outputId": "b8fb868c-458c-4d57-f739-166d97a4febd"
      },
      "source": [
        "# Perform correlation\n",
        "freedom_choice['freedom'].corr(freedom_choice['choice'])"
      ],
      "execution_count": 9,
      "outputs": [
        {
          "output_type": "execute_result",
          "data": {
            "text/plain": [
              "0.15326158201930443"
            ]
          },
          "metadata": {
            "tags": []
          },
          "execution_count": 9
        }
      ]
    },
    {
      "cell_type": "markdown",
      "metadata": {
        "id": "25Z03heZgwdM",
        "colab_type": "text"
      },
      "source": [
        "## Medium Correlation"
      ]
    },
    {
      "cell_type": "markdown",
      "metadata": {
        "id": "pY0AQQr4gwdN",
        "colab_type": "text"
      },
      "source": [
        "### Adjusted Close Stock Prices for Bank of America and J.P. Morgan"
      ]
    },
    {
      "cell_type": "code",
      "metadata": {
        "id": "wOEnK4AcgwdO",
        "colab_type": "code",
        "colab": {
          "base_uri": "https://localhost:8080/",
          "height": 225
        },
        "outputId": "9a1b3ed6-b6c0-4741-8fb8-d2970d840a2e"
      },
      "source": [
        "# Bank of America example\n",
        "df_bac = pd.read_csv(\"df_bankofamerica.csv\", parse_dates=['Date'], index_col=0)\n",
        "# JP Morgan example\n",
        "df_jpm = pd.read_csv(\"df_jpmorgan.csv\", parse_dates=['Date'], index_col=0)\n",
        "df_jpm.head()"
      ],
      "execution_count": 10,
      "outputs": [
        {
          "output_type": "execute_result",
          "data": {
            "text/html": [
              "<div>\n",
              "<style scoped>\n",
              "    .dataframe tbody tr th:only-of-type {\n",
              "        vertical-align: middle;\n",
              "    }\n",
              "\n",
              "    .dataframe tbody tr th {\n",
              "        vertical-align: top;\n",
              "    }\n",
              "\n",
              "    .dataframe thead th {\n",
              "        text-align: right;\n",
              "    }\n",
              "</style>\n",
              "<table border=\"1\" class=\"dataframe\">\n",
              "  <thead>\n",
              "    <tr style=\"text-align: right;\">\n",
              "      <th></th>\n",
              "      <th>Adj Close Price</th>\n",
              "    </tr>\n",
              "    <tr>\n",
              "      <th>Date</th>\n",
              "      <th></th>\n",
              "    </tr>\n",
              "  </thead>\n",
              "  <tbody>\n",
              "    <tr>\n",
              "      <th>1990-01-02</th>\n",
              "      <td>3.610043</td>\n",
              "    </tr>\n",
              "    <tr>\n",
              "      <th>1990-01-03</th>\n",
              "      <td>3.730377</td>\n",
              "    </tr>\n",
              "    <tr>\n",
              "      <th>1990-01-04</th>\n",
              "      <td>3.745418</td>\n",
              "    </tr>\n",
              "    <tr>\n",
              "      <th>1990-01-05</th>\n",
              "      <td>3.760463</td>\n",
              "    </tr>\n",
              "    <tr>\n",
              "      <th>1990-01-08</th>\n",
              "      <td>3.760463</td>\n",
              "    </tr>\n",
              "  </tbody>\n",
              "</table>\n",
              "</div>"
            ],
            "text/plain": [
              "            Adj Close Price\n",
              "Date                       \n",
              "1990-01-02         3.610043\n",
              "1990-01-03         3.730377\n",
              "1990-01-04         3.745418\n",
              "1990-01-05         3.760463\n",
              "1990-01-08         3.760463"
            ]
          },
          "metadata": {
            "tags": []
          },
          "execution_count": 10
        }
      ]
    },
    {
      "cell_type": "code",
      "metadata": {
        "id": "kh9sy3-QgwdT",
        "colab_type": "code",
        "colab": {}
      },
      "source": [
        "frames = [df_bac, df_jpm]\n",
        "banks = pd.concat(frames, axis=1)"
      ],
      "execution_count": 0,
      "outputs": []
    },
    {
      "cell_type": "code",
      "metadata": {
        "id": "raBSDQT4gwdX",
        "colab_type": "code",
        "colab": {
          "base_uri": "https://localhost:8080/",
          "height": 225
        },
        "outputId": "d0268c8e-3ce0-4989-b029-afa1ff912397"
      },
      "source": [
        "banks.head()"
      ],
      "execution_count": 12,
      "outputs": [
        {
          "output_type": "execute_result",
          "data": {
            "text/html": [
              "<div>\n",
              "<style scoped>\n",
              "    .dataframe tbody tr th:only-of-type {\n",
              "        vertical-align: middle;\n",
              "    }\n",
              "\n",
              "    .dataframe tbody tr th {\n",
              "        vertical-align: top;\n",
              "    }\n",
              "\n",
              "    .dataframe thead th {\n",
              "        text-align: right;\n",
              "    }\n",
              "</style>\n",
              "<table border=\"1\" class=\"dataframe\">\n",
              "  <thead>\n",
              "    <tr style=\"text-align: right;\">\n",
              "      <th></th>\n",
              "      <th>Adj Close Price</th>\n",
              "      <th>Adj Close Price</th>\n",
              "    </tr>\n",
              "    <tr>\n",
              "      <th>Date</th>\n",
              "      <th></th>\n",
              "      <th></th>\n",
              "    </tr>\n",
              "  </thead>\n",
              "  <tbody>\n",
              "    <tr>\n",
              "      <th>1990-01-02</th>\n",
              "      <td>1.711862</td>\n",
              "      <td>3.610043</td>\n",
              "    </tr>\n",
              "    <tr>\n",
              "      <th>1990-01-03</th>\n",
              "      <td>1.725632</td>\n",
              "      <td>3.730377</td>\n",
              "    </tr>\n",
              "    <tr>\n",
              "      <th>1990-01-04</th>\n",
              "      <td>1.688917</td>\n",
              "      <td>3.745418</td>\n",
              "    </tr>\n",
              "    <tr>\n",
              "      <th>1990-01-05</th>\n",
              "      <td>1.652200</td>\n",
              "      <td>3.760463</td>\n",
              "    </tr>\n",
              "    <tr>\n",
              "      <th>1990-01-08</th>\n",
              "      <td>1.661379</td>\n",
              "      <td>3.760463</td>\n",
              "    </tr>\n",
              "  </tbody>\n",
              "</table>\n",
              "</div>"
            ],
            "text/plain": [
              "            Adj Close Price  Adj Close Price\n",
              "Date                                        \n",
              "1990-01-02         1.711862         3.610043\n",
              "1990-01-03         1.725632         3.730377\n",
              "1990-01-04         1.688917         3.745418\n",
              "1990-01-05         1.652200         3.760463\n",
              "1990-01-08         1.661379         3.760463"
            ]
          },
          "metadata": {
            "tags": []
          },
          "execution_count": 12
        }
      ]
    },
    {
      "cell_type": "code",
      "metadata": {
        "id": "pxNhIIOUgwdc",
        "colab_type": "code",
        "colab": {
          "base_uri": "https://localhost:8080/",
          "height": 225
        },
        "outputId": "47c329cf-acd5-417f-9ae4-9b1cbf02cf88"
      },
      "source": [
        "col_names = ['bac_closeprice', 'jpm_closeprice']\n",
        "banks.columns = col_names\n",
        "banks.head()"
      ],
      "execution_count": 13,
      "outputs": [
        {
          "output_type": "execute_result",
          "data": {
            "text/html": [
              "<div>\n",
              "<style scoped>\n",
              "    .dataframe tbody tr th:only-of-type {\n",
              "        vertical-align: middle;\n",
              "    }\n",
              "\n",
              "    .dataframe tbody tr th {\n",
              "        vertical-align: top;\n",
              "    }\n",
              "\n",
              "    .dataframe thead th {\n",
              "        text-align: right;\n",
              "    }\n",
              "</style>\n",
              "<table border=\"1\" class=\"dataframe\">\n",
              "  <thead>\n",
              "    <tr style=\"text-align: right;\">\n",
              "      <th></th>\n",
              "      <th>bac_closeprice</th>\n",
              "      <th>jpm_closeprice</th>\n",
              "    </tr>\n",
              "    <tr>\n",
              "      <th>Date</th>\n",
              "      <th></th>\n",
              "      <th></th>\n",
              "    </tr>\n",
              "  </thead>\n",
              "  <tbody>\n",
              "    <tr>\n",
              "      <th>1990-01-02</th>\n",
              "      <td>1.711862</td>\n",
              "      <td>3.610043</td>\n",
              "    </tr>\n",
              "    <tr>\n",
              "      <th>1990-01-03</th>\n",
              "      <td>1.725632</td>\n",
              "      <td>3.730377</td>\n",
              "    </tr>\n",
              "    <tr>\n",
              "      <th>1990-01-04</th>\n",
              "      <td>1.688917</td>\n",
              "      <td>3.745418</td>\n",
              "    </tr>\n",
              "    <tr>\n",
              "      <th>1990-01-05</th>\n",
              "      <td>1.652200</td>\n",
              "      <td>3.760463</td>\n",
              "    </tr>\n",
              "    <tr>\n",
              "      <th>1990-01-08</th>\n",
              "      <td>1.661379</td>\n",
              "      <td>3.760463</td>\n",
              "    </tr>\n",
              "  </tbody>\n",
              "</table>\n",
              "</div>"
            ],
            "text/plain": [
              "            bac_closeprice  jpm_closeprice\n",
              "Date                                      \n",
              "1990-01-02        1.711862        3.610043\n",
              "1990-01-03        1.725632        3.730377\n",
              "1990-01-04        1.688917        3.745418\n",
              "1990-01-05        1.652200        3.760463\n",
              "1990-01-08        1.661379        3.760463"
            ]
          },
          "metadata": {
            "tags": []
          },
          "execution_count": 13
        }
      ]
    },
    {
      "cell_type": "code",
      "metadata": {
        "id": "rzn9bc9Rgwdh",
        "colab_type": "code",
        "colab": {
          "base_uri": "https://localhost:8080/",
          "height": 286
        },
        "outputId": "0519787d-e6f3-4520-81f4-b6de94bc64f8"
      },
      "source": [
        "banks.plot()"
      ],
      "execution_count": 14,
      "outputs": [
        {
          "output_type": "execute_result",
          "data": {
            "text/plain": [
              "<matplotlib.axes._subplots.AxesSubplot at 0x7f65359bccc0>"
            ]
          },
          "metadata": {
            "tags": []
          },
          "execution_count": 14
        },
        {
          "output_type": "display_data",
          "data": {
            "image/png": "[encoded data removed]",
            "text/plain": [
              "<Figure size 432x288 with 1 Axes>"
            ]
          },
          "metadata": {
            "tags": [],
            "needs_background": "light"
          }
        }
      ]
    },
    {
      "cell_type": "code",
      "metadata": {
        "id": "PU5wWA9cgwdp",
        "colab_type": "code",
        "colab": {
          "base_uri": "https://localhost:8080/",
          "height": 34
        },
        "outputId": "61b1d5a8-0875-430e-9f9a-86944c19bad4"
      },
      "source": [
        "banks['bac_closeprice'].corr(banks['jpm_closeprice'])"
      ],
      "execution_count": 15,
      "outputs": [
        {
          "output_type": "execute_result",
          "data": {
            "text/plain": [
              "0.48357538969394315"
            ]
          },
          "metadata": {
            "tags": []
          },
          "execution_count": 15
        }
      ]
    },
    {
      "cell_type": "markdown",
      "metadata": {
        "id": "18VPnfe9gwdw",
        "colab_type": "text"
      },
      "source": [
        "### Rolling Window of Correlations"
      ]
    },
    {
      "cell_type": "markdown",
      "metadata": {
        "id": "IJqvIOSEk7sw",
        "colab_type": "text"
      },
      "source": [
        "![alt text](https://www.business-science.io/assets/rolling-corr-explanation.png)"
      ]
    },
    {
      "cell_type": "code",
      "metadata": {
        "id": "8rd1KhtAgwdz",
        "colab_type": "code",
        "colab": {},
        "outputId": "217783f7-a01a-40cf-a9a0-3740de07e162"
      },
      "source": [
        "banks['bac_closeprice'].rolling(window=6).corr(banks['jpm_closeprice']).head(50)"
      ],
      "execution_count": 0,
      "outputs": [
        {
          "output_type": "execute_result",
          "data": {
            "text/plain": [
              "Date\n",
              "1990-01-02         NaN\n",
              "1990-01-03         NaN\n",
              "1990-01-04         NaN\n",
              "1990-01-05         NaN\n",
              "1990-01-08         NaN\n",
              "1990-01-09   -0.295338\n",
              "1990-01-10    0.442023\n",
              "1990-01-11    0.746380\n",
              "1990-01-12    0.797359\n",
              "1990-01-15    0.788352\n",
              "1990-01-16    0.860473\n",
              "1990-01-17    0.614086\n",
              "1990-01-18    0.270300\n",
              "1990-01-19   -0.691784\n",
              "1990-01-22   -0.537018\n",
              "1990-01-23   -0.651942\n",
              "1990-01-24   -0.586375\n",
              "1990-01-25   -0.474303\n",
              "1990-01-26    0.549745\n",
              "1990-01-29    0.717175\n",
              "1990-01-30    0.966896\n",
              "1990-01-31    0.970695\n",
              "1990-02-01    0.908626\n",
              "1990-02-02    0.816985\n",
              "1990-02-05    0.727252\n",
              "1990-02-06    0.732162\n",
              "1990-02-07    0.491262\n",
              "1990-02-08    0.788370\n",
              "1990-02-09    0.750273\n",
              "1990-02-12    0.401466\n",
              "1990-02-13    0.181370\n",
              "1990-02-14    0.722304\n",
              "1990-02-15    0.949791\n",
              "1990-02-16    0.961563\n",
              "1990-02-20    0.860645\n",
              "1990-02-21    0.762145\n",
              "1990-02-22    0.172076\n",
              "1990-02-23    0.219319\n",
              "1990-02-26    0.203912\n",
              "1990-02-27   -0.472087\n",
              "1990-02-28   -0.460020\n",
              "1990-03-01   -0.246647\n",
              "1990-03-02    0.417032\n",
              "1990-03-05    0.533662\n",
              "1990-03-06    0.748369\n",
              "1990-03-07    0.627444\n",
              "1990-03-08   -0.460804\n",
              "1990-03-09   -0.640872\n",
              "1990-03-12   -0.725827\n",
              "1990-03-13   -0.715162\n",
              "dtype: float64"
            ]
          },
          "metadata": {
            "tags": []
          },
          "execution_count": 24
        }
      ]
    },
    {
      "cell_type": "code",
      "metadata": {
        "id": "NqQuKbeIgwd4",
        "colab_type": "code",
        "colab": {
          "base_uri": "https://localhost:8080/",
          "height": 890
        },
        "outputId": "1b17853e-c7d6-4406-c42b-c73d67589b7f"
      },
      "source": [
        "# Calculate rolling window of correlation\n",
        "banks['bac_closeprice'].rolling(window=6).corr(banks['jpm_closeprice']).tail(50)"
      ],
      "execution_count": 16,
      "outputs": [
        {
          "output_type": "execute_result",
          "data": {
            "text/plain": [
              "Date\n",
              "2019-08-07    0.990664\n",
              "2019-08-08    0.982003\n",
              "2019-08-09    0.976365\n",
              "2019-08-12    0.954119\n",
              "2019-08-13    0.824910\n",
              "2019-08-14    0.950340\n",
              "2019-08-15    0.970285\n",
              "2019-08-16    0.944658\n",
              "2019-08-19    0.908134\n",
              "2019-08-20    0.952658\n",
              "2019-08-21    0.953390\n",
              "2019-08-22    0.982858\n",
              "2019-08-23    0.974054\n",
              "2019-08-26    0.975664\n",
              "2019-08-27    0.975332\n",
              "2019-08-28    0.974800\n",
              "2019-08-29    0.984820\n",
              "2019-08-30    0.990319\n",
              "2019-09-03    0.982095\n",
              "2019-09-04    0.984344\n",
              "2019-09-05    0.979902\n",
              "2019-09-06    0.940763\n",
              "2019-09-09    0.971785\n",
              "2019-09-10    0.979876\n",
              "2019-09-11    0.975871\n",
              "2019-09-12    0.974525\n",
              "2019-09-13    0.988001\n",
              "2019-09-16    0.970663\n",
              "2019-09-17    0.965367\n",
              "2019-09-18    0.927700\n",
              "2019-09-19    0.753383\n",
              "2019-09-20    0.538430\n",
              "2019-09-23    0.368496\n",
              "2019-09-24    0.857796\n",
              "2019-09-25    0.994708\n",
              "2019-09-26    0.948718\n",
              "2019-09-27    0.890823\n",
              "2019-09-30    0.833329\n",
              "2019-10-01    0.935323\n",
              "2019-10-02    0.986856\n",
              "2019-10-03    0.991700\n",
              "2019-10-04    0.986584\n",
              "2019-10-07    0.988812\n",
              "2019-10-08    0.993978\n",
              "2019-10-09    0.994504\n",
              "2019-10-10    0.976960\n",
              "2019-10-11    0.987106\n",
              "2019-10-14    0.991706\n",
              "2019-10-15    0.987177\n",
              "2019-10-16    0.977163\n",
              "dtype: float64"
            ]
          },
          "metadata": {
            "tags": []
          },
          "execution_count": 16
        }
      ]
    },
    {
      "cell_type": "markdown",
      "metadata": {
        "id": "9a60JWX1gwem",
        "colab_type": "text"
      },
      "source": [
        "## High Correlation"
      ]
    },
    {
      "cell_type": "markdown",
      "metadata": {
        "id": "6nN5vmlsgwen",
        "colab_type": "text"
      },
      "source": [
        "### Google Trend in \"growth\" and \"economy\""
      ]
    },
    {
      "cell_type": "code",
      "metadata": {
        "id": "cylfol2igweo",
        "colab_type": "code",
        "colab": {}
      },
      "source": [
        "# Read in data\n",
        "# https://trends.google.com/trends/?geo=US , google trends, search the word \"growth\" and \"economy\"\n",
        "growth_economy = pd.read_csv(\"growth_economy.csv\", skiprows=1)"
      ],
      "execution_count": 0,
      "outputs": []
    },
    {
      "cell_type": "code",
      "metadata": {
        "id": "e8JPlmj8gweu",
        "colab_type": "code",
        "colab": {
          "base_uri": "https://localhost:8080/",
          "height": 195
        },
        "outputId": "29e2d92d-53cf-4aec-e6a6-8e581e201d6e"
      },
      "source": [
        "growth_economy.head()"
      ],
      "execution_count": 18,
      "outputs": [
        {
          "output_type": "execute_result",
          "data": {
            "text/html": [
              "<div>\n",
              "<style scoped>\n",
              "    .dataframe tbody tr th:only-of-type {\n",
              "        vertical-align: middle;\n",
              "    }\n",
              "\n",
              "    .dataframe tbody tr th {\n",
              "        vertical-align: top;\n",
              "    }\n",
              "\n",
              "    .dataframe thead th {\n",
              "        text-align: right;\n",
              "    }\n",
              "</style>\n",
              "<table border=\"1\" class=\"dataframe\">\n",
              "  <thead>\n",
              "    <tr style=\"text-align: right;\">\n",
              "      <th></th>\n",
              "      <th>Week</th>\n",
              "      <th>growth: (United States)</th>\n",
              "      <th>economy: (United States)</th>\n",
              "    </tr>\n",
              "  </thead>\n",
              "  <tbody>\n",
              "    <tr>\n",
              "      <th>0</th>\n",
              "      <td>2019-01-06</td>\n",
              "      <td>90</td>\n",
              "      <td>51</td>\n",
              "    </tr>\n",
              "    <tr>\n",
              "      <th>1</th>\n",
              "      <td>2019-01-13</td>\n",
              "      <td>96</td>\n",
              "      <td>54</td>\n",
              "    </tr>\n",
              "    <tr>\n",
              "      <th>2</th>\n",
              "      <td>2019-01-20</td>\n",
              "      <td>93</td>\n",
              "      <td>54</td>\n",
              "    </tr>\n",
              "    <tr>\n",
              "      <th>3</th>\n",
              "      <td>2019-01-27</td>\n",
              "      <td>98</td>\n",
              "      <td>54</td>\n",
              "    </tr>\n",
              "    <tr>\n",
              "      <th>4</th>\n",
              "      <td>2019-02-03</td>\n",
              "      <td>98</td>\n",
              "      <td>56</td>\n",
              "    </tr>\n",
              "  </tbody>\n",
              "</table>\n",
              "</div>"
            ],
            "text/plain": [
              "         Week  growth: (United States)  economy: (United States)\n",
              "0  2019-01-06                       90                        51\n",
              "1  2019-01-13                       96                        54\n",
              "2  2019-01-20                       93                        54\n",
              "3  2019-01-27                       98                        54\n",
              "4  2019-02-03                       98                        56"
            ]
          },
          "metadata": {
            "tags": []
          },
          "execution_count": 18
        }
      ]
    },
    {
      "cell_type": "code",
      "metadata": {
        "id": "dOFZc7K-gwe0",
        "colab_type": "code",
        "colab": {
          "base_uri": "https://localhost:8080/",
          "height": 337
        },
        "outputId": "754ccf3b-ae97-467a-a2a9-83d33acc385c"
      },
      "source": [
        "growth_economy.plot(figsize=(8,5))"
      ],
      "execution_count": 19,
      "outputs": [
        {
          "output_type": "execute_result",
          "data": {
            "text/plain": [
              "<matplotlib.axes._subplots.AxesSubplot at 0x7f653544df28>"
            ]
          },
          "metadata": {
            "tags": []
          },
          "execution_count": 19
        },
        {
          "output_type": "display_data",
          "data": {
            "image/png": "[encoded data removed]",
            "text/plain": [
              "<Figure size 576x360 with 1 Axes>"
            ]
          },
          "metadata": {
            "tags": [],
            "needs_background": "light"
          }
        }
      ]
    },
    {
      "cell_type": "code",
      "metadata": {
        "id": "B2KLCctRgwfA",
        "colab_type": "code",
        "colab": {}
      },
      "source": [
        "col_names = ['Week', 'growth', 'economy']\n",
        "growth_economy.columns = col_names"
      ],
      "execution_count": 0,
      "outputs": []
    },
    {
      "cell_type": "code",
      "metadata": {
        "id": "Hhc1InP6gwfE",
        "colab_type": "code",
        "colab": {
          "base_uri": "https://localhost:8080/",
          "height": 195
        },
        "outputId": "a5aa7ace-32d3-4e6c-c0fe-4b43042cf789"
      },
      "source": [
        "growth_economy.head()"
      ],
      "execution_count": 21,
      "outputs": [
        {
          "output_type": "execute_result",
          "data": {
            "text/html": [
              "<div>\n",
              "<style scoped>\n",
              "    .dataframe tbody tr th:only-of-type {\n",
              "        vertical-align: middle;\n",
              "    }\n",
              "\n",
              "    .dataframe tbody tr th {\n",
              "        vertical-align: top;\n",
              "    }\n",
              "\n",
              "    .dataframe thead th {\n",
              "        text-align: right;\n",
              "    }\n",
              "</style>\n",
              "<table border=\"1\" class=\"dataframe\">\n",
              "  <thead>\n",
              "    <tr style=\"text-align: right;\">\n",
              "      <th></th>\n",
              "      <th>Week</th>\n",
              "      <th>growth</th>\n",
              "      <th>economy</th>\n",
              "    </tr>\n",
              "  </thead>\n",
              "  <tbody>\n",
              "    <tr>\n",
              "      <th>0</th>\n",
              "      <td>2019-01-06</td>\n",
              "      <td>90</td>\n",
              "      <td>51</td>\n",
              "    </tr>\n",
              "    <tr>\n",
              "      <th>1</th>\n",
              "      <td>2019-01-13</td>\n",
              "      <td>96</td>\n",
              "      <td>54</td>\n",
              "    </tr>\n",
              "    <tr>\n",
              "      <th>2</th>\n",
              "      <td>2019-01-20</td>\n",
              "      <td>93</td>\n",
              "      <td>54</td>\n",
              "    </tr>\n",
              "    <tr>\n",
              "      <th>3</th>\n",
              "      <td>2019-01-27</td>\n",
              "      <td>98</td>\n",
              "      <td>54</td>\n",
              "    </tr>\n",
              "    <tr>\n",
              "      <th>4</th>\n",
              "      <td>2019-02-03</td>\n",
              "      <td>98</td>\n",
              "      <td>56</td>\n",
              "    </tr>\n",
              "  </tbody>\n",
              "</table>\n",
              "</div>"
            ],
            "text/plain": [
              "         Week  growth  economy\n",
              "0  2019-01-06      90       51\n",
              "1  2019-01-13      96       54\n",
              "2  2019-01-20      93       54\n",
              "3  2019-01-27      98       54\n",
              "4  2019-02-03      98       56"
            ]
          },
          "metadata": {
            "tags": []
          },
          "execution_count": 21
        }
      ]
    },
    {
      "cell_type": "code",
      "metadata": {
        "id": "2OblXo7bgwfJ",
        "colab_type": "code",
        "colab": {
          "base_uri": "https://localhost:8080/",
          "height": 34
        },
        "outputId": "790a2345-b020-4b05-880d-4d8370f1ad74"
      },
      "source": [
        "# Calculate correlation\n",
        "growth_economy['growth'].corr(growth_economy['economy'])"
      ],
      "execution_count": 22,
      "outputs": [
        {
          "output_type": "execute_result",
          "data": {
            "text/plain": [
              "0.9279092781100563"
            ]
          },
          "metadata": {
            "tags": []
          },
          "execution_count": 22
        }
      ]
    },
    {
      "cell_type": "markdown",
      "metadata": {
        "id": "XEWXoXcnlJOV",
        "colab_type": "text"
      },
      "source": [
        "\n",
        "**Autocorrelation**\n",
        "Much like correlation, autocorrelation gives a measure of the strength and direction of a relationship between two time series. Autocorrelation is done with a variable and its lag. It's a correlation with itself, hence autocorrelation. Basically, you are using the same time series and creating a second series, which is shifted by a time step. It is common to use the autocorrelation (ACF) plot to visualize the autocorrelation of a time-series.Let's start by taking a look at white noise.\n",
        "\n",
        "**White Noise**\n",
        "If your time series is statististically uncorrelated (independent) with zero mean and constant variance, then you have a particular type of noise called white nois"
      ]
    },
    {
      "cell_type": "code",
      "metadata": {
        "id": "f57XxGFjgwfO",
        "colab_type": "code",
        "colab": {
          "base_uri": "https://localhost:8080/",
          "height": 283
        },
        "outputId": "a8f4c2ea-efe2-4d95-e4ca-fee148a83047"
      },
      "source": [
        "import pandas as pd\n",
        "from pandas import read_csv\n",
        "from matplotlib import pyplot as plot\n",
        "import numpy as np\n",
        "\n",
        "\n",
        "# loc is mean, scale is standard deviation\n",
        "white_noise = np.random.normal(loc=0, scale=2, size=1000)\n",
        "\n",
        "# plot white noise\n",
        "plot.plot(white_noise)"
      ],
      "execution_count": 24,
      "outputs": [
        {
          "output_type": "execute_result",
          "data": {
            "text/plain": [
              "[<matplotlib.lines.Line2D at 0x7f6533fb87f0>]"
            ]
          },
          "metadata": {
            "tags": []
          },
          "execution_count": 24
        },
        {
          "output_type": "display_data",
          "data": {
            "image/png": "[encoded data removed]",
            "text/plain": [
              "<Figure size 432x288 with 1 Axes>"
            ]
          },
          "metadata": {
            "tags": [],
            "needs_background": "light"
          }
        }
      ]
    },
    {
      "cell_type": "code",
      "metadata": {
        "id": "9CnZ_wPelSna",
        "colab_type": "code",
        "colab": {
          "base_uri": "https://localhost:8080/",
          "height": 50
        },
        "outputId": "66280ae2-e001-4b1f-c35d-9f3359024e5b"
      },
      "source": [
        "print(white_noise.mean())\n",
        "\n",
        "white_noise.std()"
      ],
      "execution_count": 25,
      "outputs": [
        {
          "output_type": "stream",
          "text": [
            "-0.06129170608092724\n"
          ],
          "name": "stdout"
        },
        {
          "output_type": "execute_result",
          "data": {
            "text/plain": [
              "1.8633189996947501"
            ]
          },
          "metadata": {
            "tags": []
          },
          "execution_count": 25
        }
      ]
    },
    {
      "cell_type": "code",
      "metadata": {
        "id": "BR285NdWlcYb",
        "colab_type": "code",
        "colab": {
          "base_uri": "https://localhost:8080/",
          "height": 334
        },
        "outputId": "5482387a-64a3-4b56-8dc1-e180834e96af"
      },
      "source": [
        "# Plot Autocorrelation\n",
        "from statsmodels.graphics.tsaplots import plot_acf\n",
        "# Example of white noise autocorrelation (serial correlation) \n",
        "plot_acf(white_noise, lags=100);"
      ],
      "execution_count": 26,
      "outputs": [
        {
          "output_type": "stream",
          "text": [
            "/usr/local/lib/python3.6/dist-packages/statsmodels/tools/_testing.py:19: FutureWarning: pandas.util.testing is deprecated. Use the functions in the public API at pandas.testing instead.\n",
            "  import pandas.util.testing as tm\n"
          ],
          "name": "stderr"
        },
        {
          "output_type": "display_data",
          "data": {
            "image/png": "[encoded data removed]",
            "text/plain": [
              "<Figure size 432x288 with 1 Axes>"
            ]
          },
          "metadata": {
            "tags": [],
            "needs_background": "light"
          }
        }
      ]
    },
    {
      "cell_type": "markdown",
      "metadata": {
        "id": "oYTsGOIrltTK",
        "colab_type": "text"
      },
      "source": [
        "\n",
        "all the lags have close to zero autocorrelation so this means that lagged values cannot be used in prediction. All the lagged variables are random and are not useful for prediction.//"
      ]
    },
    {
      "cell_type": "code",
      "metadata": {
        "id": "rTe8t0LsloNo",
        "colab_type": "code",
        "colab": {
          "base_uri": "https://localhost:8080/",
          "height": 225
        },
        "outputId": "ac75b6a7-f969-40b0-bd16-1e520243f5a9"
      },
      "source": [
        "vacation = pd.read_csv(\"df_vacation.csv\", index_col='Month', parse_dates=True)\n",
        "vacation.head()"
      ],
      "execution_count": 29,
      "outputs": [
        {
          "output_type": "execute_result",
          "data": {
            "text/html": [
              "<div>\n",
              "<style scoped>\n",
              "    .dataframe tbody tr th:only-of-type {\n",
              "        vertical-align: middle;\n",
              "    }\n",
              "\n",
              "    .dataframe tbody tr th {\n",
              "        vertical-align: top;\n",
              "    }\n",
              "\n",
              "    .dataframe thead th {\n",
              "        text-align: right;\n",
              "    }\n",
              "</style>\n",
              "<table border=\"1\" class=\"dataframe\">\n",
              "  <thead>\n",
              "    <tr style=\"text-align: right;\">\n",
              "      <th></th>\n",
              "      <th>Num_Search_Vacation</th>\n",
              "    </tr>\n",
              "    <tr>\n",
              "      <th>Month</th>\n",
              "      <th></th>\n",
              "    </tr>\n",
              "  </thead>\n",
              "  <tbody>\n",
              "    <tr>\n",
              "      <th>2004-01-01</th>\n",
              "      <td>94</td>\n",
              "    </tr>\n",
              "    <tr>\n",
              "      <th>2004-02-01</th>\n",
              "      <td>89</td>\n",
              "    </tr>\n",
              "    <tr>\n",
              "      <th>2004-03-01</th>\n",
              "      <td>86</td>\n",
              "    </tr>\n",
              "    <tr>\n",
              "      <th>2004-04-01</th>\n",
              "      <td>79</td>\n",
              "    </tr>\n",
              "    <tr>\n",
              "      <th>2004-05-01</th>\n",
              "      <td>89</td>\n",
              "    </tr>\n",
              "  </tbody>\n",
              "</table>\n",
              "</div>"
            ],
            "text/plain": [
              "            Num_Search_Vacation\n",
              "Month                          \n",
              "2004-01-01                   94\n",
              "2004-02-01                   89\n",
              "2004-03-01                   86\n",
              "2004-04-01                   79\n",
              "2004-05-01                   89"
            ]
          },
          "metadata": {
            "tags": []
          },
          "execution_count": 29
        }
      ]
    },
    {
      "cell_type": "code",
      "metadata": {
        "id": "YTjRvsVVl-Wj",
        "colab_type": "code",
        "colab": {
          "base_uri": "https://localhost:8080/",
          "height": 279
        },
        "outputId": "279546d5-e335-4ed4-d0de-5326b7d70fbe"
      },
      "source": [
        "# Lag Plot\n",
        "from pandas.plotting import lag_plot\n",
        "\n",
        "lag_plot(vacation)\n",
        "plot.show()"
      ],
      "execution_count": 30,
      "outputs": [
        {
          "output_type": "display_data",
          "data": {
            "image/png": "[encoded data removed]",
            "text/plain": [
              "<Figure size 432x288 with 1 Axes>"
            ]
          },
          "metadata": {
            "tags": [],
            "needs_background": "light"
          }
        }
      ]
    },
    {
      "cell_type": "markdown",
      "metadata": {
        "id": "E1RESGlmmIQr",
        "colab_type": "text"
      },
      "source": [
        "\n",
        "The plot above shows the vacation data on the y(t) against its previous time step, prior month, the the y(t+1). You can think of the data shifted by a month and then plotted, removing the first data point. Clearly, we see a positive relationship, though it is has a broader range of scatter."
      ]
    },
    {
      "cell_type": "code",
      "metadata": {
        "id": "FjHvtchLmDz5",
        "colab_type": "code",
        "colab": {
          "base_uri": "https://localhost:8080/",
          "height": 34
        },
        "outputId": "774b1a52-b0d0-4745-81fc-c3cd0b3d5e83"
      },
      "source": [
        "# Autocorrelation\n",
        "autocorrelation = vacation['Num_Search_Vacation'].autocorr()\n",
        "print(\"The autocorrelation is: %4.2f\" %(autocorrelation))"
      ],
      "execution_count": 32,
      "outputs": [
        {
          "output_type": "stream",
          "text": [
            "The autocorrelation is: 0.80\n"
          ],
          "name": "stdout"
        }
      ]
    },
    {
      "cell_type": "code",
      "metadata": {
        "id": "i0kzjZ_ymK-F",
        "colab_type": "code",
        "colab": {
          "base_uri": "https://localhost:8080/",
          "height": 281
        },
        "outputId": "9d661cf2-e215-4e5a-f564-0aeae19b0bc1"
      },
      "source": [
        "# Plot ACF to visualize the autocorrelation\n",
        "from statsmodels.graphics.tsaplots import plot_acf\n",
        "plot_acf(vacation['Num_Search_Vacation'], lags=12);"
      ],
      "execution_count": 33,
      "outputs": [
        {
          "output_type": "display_data",
          "data": {
            "image/png": "[encoded data removed]",
            "text/plain": [
              "<Figure size 432x288 with 1 Axes>"
            ]
          },
          "metadata": {
            "tags": [],
            "needs_background": "light"
          }
        }
      ]
    },
    {
      "cell_type": "markdown",
      "metadata": {
        "id": "aaldbUM5mVA9",
        "colab_type": "text"
      },
      "source": [
        "The partial autocorrelation function (PACF) gives the partial correlation of a time series with its own lagged values. It controls for other lags. The idea for the PACF is that we perform correlation between a variable and itself lagged and then we subtract that effect from the variable and then find out what residual correlation is left over from that variable and further lags. For example, a PACF of order 3 returns the correlation between our time series (t1, t2, t3, ...) and its own values lagged by 3 time points (t4, t5, t6, ...), but only after removing all effects attributable to lags 1 and 2"
      ]
    },
    {
      "cell_type": "code",
      "metadata": {
        "id": "jQ-HN_e8mRGX",
        "colab_type": "code",
        "colab": {
          "base_uri": "https://localhost:8080/",
          "height": 281
        },
        "outputId": "9d2fc061-88de-4e6f-e2cd-83abf4888960"
      },
      "source": [
        "# Plot Partial autocorrelation function (PACF)\n",
        "from statsmodels.graphics.tsaplots import plot_pacf\n",
        "plot_pacf(vacation['Num_Search_Vacation'], lags=12);"
      ],
      "execution_count": 34,
      "outputs": [
        {
          "output_type": "display_data",
          "data": {
            "image/png": "[encoded data removed]",
            "text/plain": [
              "<Figure size 432x288 with 1 Axes>"
            ]
          },
          "metadata": {
            "tags": [],
            "needs_background": "light"
          }
        }
      ]
    },
    {
      "cell_type": "markdown",
      "metadata": {
        "id": "TvNphji1mjl0",
        "colab_type": "text"
      },
      "source": [
        "\n",
        "If partial autocorrelation values are close to 0, then values between observations and lagged observations are not correlated with one another. Inversely, partial autocorrelations with values close to 1 or -1 indicate that there exists strong positive or negative correlations between the lagged observations of the time series.\n",
        "\n",
        "The .plot_pacf() function also returns confidence intervals, which are represented as blue shaded regions. If partial autocorrelation values are beyond this confidence interval regions, then you can assume that the observed partial autocorrelation values are statistically significant."
      ]
    },
    {
      "cell_type": "code",
      "metadata": {
        "id": "vg_U0uGmmgdh",
        "colab_type": "code",
        "colab": {}
      },
      "source": [
        ""
      ],
      "execution_count": 0,
      "outputs": []
    }
  ]
}