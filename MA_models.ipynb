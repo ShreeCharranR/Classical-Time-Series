{
  "nbformat": 4,
  "nbformat_minor": 0,
  "metadata": {
    "kernelspec": {
      "display_name": "Python 3",
      "language": "python",
      "name": "python3"
    },
    "language_info": {
      "codemirror_mode": {
        "name": "ipython",
        "version": 3
      },
      "file_extension": ".py",
      "mimetype": "text/x-python",
      "name": "python",
      "nbconvert_exporter": "python",
      "pygments_lexer": "ipython3",
      "version": "3.7.4"
    },
    "colab": {
      "name": "MA_models.ipynb",
      "provenance": [],
      "collapsed_sections": [],
      "toc_visible": true
    }
  },
  "cells": [
    {
      "cell_type": "markdown",
      "metadata": {
        "id": "Ld5tI5Gd7lUo",
        "colab_type": "text"
      },
      "source": [
        "Moving Average Models\n",
        "Moving average (MA) is a process where the present value of a time series, y, is defined as a linear combination of past errors. The error term (noise) is represented as e. Both the t-1 and t-2 are lags of the time on the errors.\n",
        "\n",
        "MA(1) model: $y_{t}$ = $m_{1}$$e_{t-1}$ + $e_{t}$\n",
        "\n",
        "MA(2) model: $y_{t}$ = $m_{1}$$e_{t-1}$ + $m_{2}$$e_{t-2}$ + $e_{t}$\n",
        "\n",
        "We typically represent the order of the model as q for a MA model such as MA(q)."
      ]
    },
    {
      "cell_type": "markdown",
      "metadata": {
        "id": "mDkkJQus7aTA",
        "colab_type": "text"
      },
      "source": [
        "Recall that the moving average model was described as a regression between a time series and its lagged error term.  By specifying an order, we set the number of lags."
      ]
    },
    {
      "cell_type": "code",
      "metadata": {
        "id": "DU8-FiFt7aTB",
        "colab_type": "code",
        "colab": {}
      },
      "source": [
        "from pandas import read_csv\n",
        "from matplotlib import pyplot"
      ],
      "execution_count": 0,
      "outputs": []
    },
    {
      "cell_type": "markdown",
      "metadata": {
        "id": "Loizq6ld7aTG",
        "colab_type": "text"
      },
      "source": [
        "###  Example 1: Vacation dataset"
      ]
    },
    {
      "cell_type": "code",
      "metadata": {
        "id": "67xH5CuL7aTH",
        "colab_type": "code",
        "colab": {
          "base_uri": "https://localhost:8080/",
          "height": 225
        },
        "outputId": "c992fb19-83ad-409f-9483-2088de4273f6"
      },
      "source": [
        "vacation = read_csv('df_vacation.csv', index_col=0, parse_dates=True)\n",
        "vacation.head()"
      ],
      "execution_count": 4,
      "outputs": [
        {
          "output_type": "execute_result",
          "data": {
            "text/html": [
              "<div>\n",
              "<style scoped>\n",
              "    .dataframe tbody tr th:only-of-type {\n",
              "        vertical-align: middle;\n",
              "    }\n",
              "\n",
              "    .dataframe tbody tr th {\n",
              "        vertical-align: top;\n",
              "    }\n",
              "\n",
              "    .dataframe thead th {\n",
              "        text-align: right;\n",
              "    }\n",
              "</style>\n",
              "<table border=\"1\" class=\"dataframe\">\n",
              "  <thead>\n",
              "    <tr style=\"text-align: right;\">\n",
              "      <th></th>\n",
              "      <th>Num_Search_Vacation</th>\n",
              "    </tr>\n",
              "    <tr>\n",
              "      <th>Month</th>\n",
              "      <th></th>\n",
              "    </tr>\n",
              "  </thead>\n",
              "  <tbody>\n",
              "    <tr>\n",
              "      <th>2004-01-01</th>\n",
              "      <td>94</td>\n",
              "    </tr>\n",
              "    <tr>\n",
              "      <th>2004-02-01</th>\n",
              "      <td>89</td>\n",
              "    </tr>\n",
              "    <tr>\n",
              "      <th>2004-03-01</th>\n",
              "      <td>86</td>\n",
              "    </tr>\n",
              "    <tr>\n",
              "      <th>2004-04-01</th>\n",
              "      <td>79</td>\n",
              "    </tr>\n",
              "    <tr>\n",
              "      <th>2004-05-01</th>\n",
              "      <td>89</td>\n",
              "    </tr>\n",
              "  </tbody>\n",
              "</table>\n",
              "</div>"
            ],
            "text/plain": [
              "            Num_Search_Vacation\n",
              "Month                          \n",
              "2004-01-01                   94\n",
              "2004-02-01                   89\n",
              "2004-03-01                   86\n",
              "2004-04-01                   79\n",
              "2004-05-01                   89"
            ]
          },
          "metadata": {
            "tags": []
          },
          "execution_count": 4
        }
      ]
    },
    {
      "cell_type": "code",
      "metadata": {
        "id": "gE3AxMbb7aTM",
        "colab_type": "code",
        "colab": {
          "base_uri": "https://localhost:8080/",
          "height": 457
        },
        "outputId": "f981de67-7660-47b5-b5be-318b0d0401a5"
      },
      "source": [
        "# Estimate Moving Average\n",
        "\n",
        "# Import the ARMA module from statsmodels\n",
        "from statsmodels.tsa.arima_model import ARMA\n",
        "\n",
        "# Fit an MA(1) model to the first simulated data\n",
        "mod = ARMA(vacation, order=(0,1))  # order is reversed for MA compared to AR, MA(1)\n",
        "res = mod.fit()\n",
        "\n",
        "# Print out summary information on the fit\n",
        "print(res.summary())\n",
        "\n",
        "# Print out the estimate for the coefficients\n",
        "print(res.params)\n",
        "\n",
        "# S.D. of innovations is standard deviation of errors\n",
        "# L1 is lag1\n",
        "# fitted model parameters, MA lag 1"
      ],
      "execution_count": 5,
      "outputs": [
        {
          "output_type": "stream",
          "text": [
            "                               ARMA Model Results                              \n",
            "===============================================================================\n",
            "Dep. Variable:     Num_Search_Vacation   No. Observations:                  190\n",
            "Model:                      ARMA(0, 1)   Log Likelihood                -717.636\n",
            "Method:                        css-mle   S.D. of innovations             10.548\n",
            "Date:                 Fri, 17 Apr 2020   AIC                           1441.271\n",
            "Time:                         11:39:02   BIC                           1451.012\n",
            "Sample:                     01-01-2004   HQIC                          1445.217\n",
            "                          - 10-01-2019                                         \n",
            "=============================================================================================\n",
            "                                coef    std err          z      P>|z|      [0.025      0.975]\n",
            "---------------------------------------------------------------------------------------------\n",
            "const                        60.2595      1.333     45.212      0.000      57.647      62.872\n",
            "ma.L1.Num_Search_Vacation     0.7456      0.034     22.077      0.000       0.679       0.812\n",
            "                                    Roots                                    \n",
            "=============================================================================\n",
            "                  Real          Imaginary           Modulus         Frequency\n",
            "-----------------------------------------------------------------------------\n",
            "MA.1           -1.3412           +0.0000j            1.3412            0.5000\n",
            "-----------------------------------------------------------------------------\n",
            "const                        60.25945\n",
            "ma.L1.Num_Search_Vacation     0.74559\n",
            "dtype: float64\n"
          ],
          "name": "stdout"
        },
        {
          "output_type": "stream",
          "text": [
            "/usr/local/lib/python3.6/dist-packages/statsmodels/tsa/base/tsa_model.py:165: ValueWarning: No frequency information was provided, so inferred frequency MS will be used.\n",
            "  % freq, ValueWarning)\n"
          ],
          "name": "stderr"
        }
      ]
    },
    {
      "cell_type": "code",
      "metadata": {
        "id": "0v1ZMp747aTQ",
        "colab_type": "code",
        "colab": {
          "base_uri": "https://localhost:8080/",
          "height": 318
        },
        "outputId": "6fe65641-af79-4e94-f5dc-bca014abcb83"
      },
      "source": [
        "# Forecast Moving Average Model \n",
        "\n",
        "# Import the ARMA module from statsmodels\n",
        "from statsmodels.tsa.arima_model import ARMA\n",
        "\n",
        "# Forecast the first MA(1) model\n",
        "mod = ARMA(vacation, order=(0,1))\n",
        "res = mod.fit()\n",
        "\n",
        "# Start the forecast 10 data points before the end of the  point series at , \n",
        "#and end the forecast 10 data points after the end of the series at point \n",
        "res.plot_predict(start='2015', end='2025')\n",
        "pyplot.show()"
      ],
      "execution_count": 6,
      "outputs": [
        {
          "output_type": "stream",
          "text": [
            "/usr/local/lib/python3.6/dist-packages/statsmodels/tsa/base/tsa_model.py:165: ValueWarning: No frequency information was provided, so inferred frequency MS will be used.\n",
            "  % freq, ValueWarning)\n"
          ],
          "name": "stderr"
        },
        {
          "output_type": "display_data",
          "data": {
            "image/png": "[encoded data removed]",
            "text/plain": [
              "<Figure size 432x288 with 1 Axes>"
            ]
          },
          "metadata": {
            "tags": [],
            "needs_background": "light"
          }
        }
      ]
    },
    {
      "cell_type": "code",
      "metadata": {
        "id": "o9ONBt3H7aTT",
        "colab_type": "code",
        "colab": {}
      },
      "source": [
        ""
      ],
      "execution_count": 0,
      "outputs": []
    },
    {
      "cell_type": "markdown",
      "metadata": {
        "id": "Ins3MuSt7aTX",
        "colab_type": "text"
      },
      "source": [
        "###  Example 2: Furniture dataset"
      ]
    },
    {
      "cell_type": "code",
      "metadata": {
        "id": "ak5THqye7aTX",
        "colab_type": "code",
        "colab": {},
        "outputId": "96d23e5d-5173-42b3-9493-bbeb5b95915e"
      },
      "source": [
        "furn = read_csv('~/Desktop/section_3/df_furniture.csv', header=0, index_col=0)\n",
        "furn.head()"
      ],
      "execution_count": 0,
      "outputs": [
        {
          "output_type": "execute_result",
          "data": {
            "text/html": [
              "<div>\n",
              "<style scoped>\n",
              "    .dataframe tbody tr th:only-of-type {\n",
              "        vertical-align: middle;\n",
              "    }\n",
              "\n",
              "    .dataframe tbody tr th {\n",
              "        vertical-align: top;\n",
              "    }\n",
              "\n",
              "    .dataframe thead th {\n",
              "        text-align: right;\n",
              "    }\n",
              "</style>\n",
              "<table border=\"1\" class=\"dataframe\">\n",
              "  <thead>\n",
              "    <tr style=\"text-align: right;\">\n",
              "      <th></th>\n",
              "      <th>furniture_price_adjusted</th>\n",
              "    </tr>\n",
              "    <tr>\n",
              "      <th>Month</th>\n",
              "      <th></th>\n",
              "    </tr>\n",
              "  </thead>\n",
              "  <tbody>\n",
              "    <tr>\n",
              "      <td>1/1/92</td>\n",
              "      <td>2073.432724</td>\n",
              "    </tr>\n",
              "    <tr>\n",
              "      <td>2/1/92</td>\n",
              "      <td>2114.485812</td>\n",
              "    </tr>\n",
              "    <tr>\n",
              "      <td>3/1/92</td>\n",
              "      <td>2260.570891</td>\n",
              "    </tr>\n",
              "    <tr>\n",
              "      <td>4/1/92</td>\n",
              "      <td>2255.103236</td>\n",
              "    </tr>\n",
              "    <tr>\n",
              "      <td>5/1/92</td>\n",
              "      <td>2331.414618</td>\n",
              "    </tr>\n",
              "  </tbody>\n",
              "</table>\n",
              "</div>"
            ],
            "text/plain": [
              "        furniture_price_adjusted\n",
              "Month                           \n",
              "1/1/92               2073.432724\n",
              "2/1/92               2114.485812\n",
              "3/1/92               2260.570891\n",
              "4/1/92               2255.103236\n",
              "5/1/92               2331.414618"
            ]
          },
          "metadata": {
            "tags": []
          },
          "execution_count": 5
        }
      ]
    },
    {
      "cell_type": "markdown",
      "metadata": {
        "id": "OjebIJtt7aTi",
        "colab_type": "text"
      },
      "source": [
        "###  Example 2: Bank of America dataset"
      ]
    },
    {
      "cell_type": "code",
      "metadata": {
        "id": "Zwa2je7h7aTj",
        "colab_type": "code",
        "colab": {
          "base_uri": "https://localhost:8080/",
          "height": 225
        },
        "outputId": "fc16fc3b-d4d8-435e-bc90-4a277c7bab7c"
      },
      "source": [
        "# Read in BOA dataset, this is original with resampling \n",
        "bac= read_csv('df_bankofamerica.csv', index_col=0, parse_dates=True)\n",
        "# convert daily data to monthly data\n",
        "bac= bac.resample(rule='M').last()\n",
        "bac.head()"
      ],
      "execution_count": 8,
      "outputs": [
        {
          "output_type": "execute_result",
          "data": {
            "text/html": [
              "<div>\n",
              "<style scoped>\n",
              "    .dataframe tbody tr th:only-of-type {\n",
              "        vertical-align: middle;\n",
              "    }\n",
              "\n",
              "    .dataframe tbody tr th {\n",
              "        vertical-align: top;\n",
              "    }\n",
              "\n",
              "    .dataframe thead th {\n",
              "        text-align: right;\n",
              "    }\n",
              "</style>\n",
              "<table border=\"1\" class=\"dataframe\">\n",
              "  <thead>\n",
              "    <tr style=\"text-align: right;\">\n",
              "      <th></th>\n",
              "      <th>Adj Close Price</th>\n",
              "    </tr>\n",
              "    <tr>\n",
              "      <th>Date</th>\n",
              "      <th></th>\n",
              "    </tr>\n",
              "  </thead>\n",
              "  <tbody>\n",
              "    <tr>\n",
              "      <th>1990-01-31</th>\n",
              "      <td>1.542054</td>\n",
              "    </tr>\n",
              "    <tr>\n",
              "      <th>1990-02-28</th>\n",
              "      <td>1.687537</td>\n",
              "    </tr>\n",
              "    <tr>\n",
              "      <th>1990-03-31</th>\n",
              "      <td>1.469485</td>\n",
              "    </tr>\n",
              "    <tr>\n",
              "      <th>1990-04-30</th>\n",
              "      <td>1.441042</td>\n",
              "    </tr>\n",
              "    <tr>\n",
              "      <th>1990-05-31</th>\n",
              "      <td>1.525887</td>\n",
              "    </tr>\n",
              "  </tbody>\n",
              "</table>\n",
              "</div>"
            ],
            "text/plain": [
              "            Adj Close Price\n",
              "Date                       \n",
              "1990-01-31         1.542054\n",
              "1990-02-28         1.687537\n",
              "1990-03-31         1.469485\n",
              "1990-04-30         1.441042\n",
              "1990-05-31         1.525887"
            ]
          },
          "metadata": {
            "tags": []
          },
          "execution_count": 8
        }
      ]
    },
    {
      "cell_type": "code",
      "metadata": {
        "id": "ad6VGJ9H7aTm",
        "colab_type": "code",
        "colab": {
          "base_uri": "https://localhost:8080/",
          "height": 403
        },
        "outputId": "bd33b91b-3539-4f97-8de7-c1faf759c63d"
      },
      "source": [
        "# Estimate Moving Average\n",
        "\n",
        "# Import the ARMA module from statsmodels\n",
        "from statsmodels.tsa.arima_model import ARMA\n",
        "\n",
        "# Fit an MA(1) model to the first simulated data\n",
        "mod = ARMA(bac, order=(0,1))  # order is reversed for MA compared to AR, MA(1)\n",
        "res = mod.fit()\n",
        "\n",
        "# Print out summary information on the fit\n",
        "print(res.summary())\n",
        "\n",
        "# Print out the estimate for the coefficients\n",
        "print(res.params)\n",
        "\n",
        "# S.D. of innovations is standard deviation of errors\n",
        "# L1 is lag1\n",
        "# fitted model parameters, MA lag 1"
      ],
      "execution_count": 9,
      "outputs": [
        {
          "output_type": "stream",
          "text": [
            "                              ARMA Model Results                              \n",
            "==============================================================================\n",
            "Dep. Variable:        Adj Close Price   No. Observations:                  358\n",
            "Model:                     ARMA(0, 1)   Log Likelihood               -1154.281\n",
            "Method:                       css-mle   S.D. of innovations              6.068\n",
            "Date:                Fri, 17 Apr 2020   AIC                           2314.562\n",
            "Time:                        11:40:43   BIC                           2326.203\n",
            "Sample:                    01-31-1990   HQIC                          2319.192\n",
            "                         - 10-31-2019                                         \n",
            "=========================================================================================\n",
            "                            coef    std err          z      P>|z|      [0.025      0.975]\n",
            "-----------------------------------------------------------------------------------------\n",
            "const                    16.3783      0.608     26.926      0.000      15.186      17.571\n",
            "ma.L1.Adj Close Price     0.8993      0.017     52.719      0.000       0.866       0.933\n",
            "                                    Roots                                    \n",
            "=============================================================================\n",
            "                  Real          Imaginary           Modulus         Frequency\n",
            "-----------------------------------------------------------------------------\n",
            "MA.1           -1.1120           +0.0000j            1.1120            0.5000\n",
            "-----------------------------------------------------------------------------\n",
            "const                    16.378311\n",
            "ma.L1.Adj Close Price     0.899254\n",
            "dtype: float64\n"
          ],
          "name": "stdout"
        }
      ]
    },
    {
      "cell_type": "code",
      "metadata": {
        "id": "v87Wkf4D7aTq",
        "colab_type": "code",
        "colab": {
          "base_uri": "https://localhost:8080/",
          "height": 265
        },
        "outputId": "7200b608-cc0b-4dd9-c78a-eb758217df00"
      },
      "source": [
        "# Forecast Moving Average Model \n",
        "\n",
        "# Import the ARMA module from statsmodels\n",
        "from statsmodels.tsa.arima_model import ARMA\n",
        "\n",
        "# Forecast the first MA(1) model\n",
        "mod = ARMA(bac, order=(0,1))\n",
        "res = mod.fit()\n",
        "\n",
        "# Start the forecast 10 data points before the end of the  point series at , \n",
        "#and end the forecast 10 data points after the end of the series at point \n",
        "res.plot_predict(start='2015', end='2025')\n",
        "pyplot.show()"
      ],
      "execution_count": 10,
      "outputs": [
        {
          "output_type": "display_data",
          "data": {
            "image/png": "[encoded data removed]",
            "text/plain": [
              "<Figure size 432x288 with 1 Axes>"
            ]
          },
          "metadata": {
            "tags": [],
            "needs_background": "light"
          }
        }
      ]
    },
    {
      "cell_type": "code",
      "metadata": {
        "id": "u8NM9GAS7aTu",
        "colab_type": "code",
        "colab": {}
      },
      "source": [
        ""
      ],
      "execution_count": 0,
      "outputs": []
    }
  ]
}